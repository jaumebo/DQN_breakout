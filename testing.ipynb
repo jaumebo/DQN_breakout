{
 "cells": [
  {
   "cell_type": "code",
   "execution_count": 1,
   "metadata": {},
   "outputs": [],
   "source": [
    "from DQN_functions import *"
   ]
  },
  {
   "cell_type": "code",
   "execution_count": 2,
   "metadata": {},
   "outputs": [],
   "source": [
    "env_name = \"Breakout-ram-v0\""
   ]
  },
  {
   "cell_type": "code",
   "execution_count": 3,
   "metadata": {},
   "outputs": [],
   "source": [
    "viewer = rendering.SimpleImageViewer()\n",
    "env = gym.make(env_name)\n",
    "env.reset()\n",
    "\n",
    "action=0\n",
    "done=False\n",
    "total_rew=0\n",
    "steps=0\n",
    "\n",
    "rgb = env.render('rgb_array')\n",
    "sleep(0.03)\n",
    "\n",
    "while not done:\n",
    "    upscaled=repeat_upsample(rgb,4, 4)\n",
    "    viewer.imshow(upscaled)\n",
    "    ac = env.action_space.sample()\n",
    "    ob, rew, done, info = env.step(ac)\n",
    "    total_rew += rew\n",
    "    steps+=1\n",
    "    rgb = env.render('rgb_array')\n",
    "    #sleep(0.03)\n",
    "\n",
    "viewer.close()\n",
    "env.close()"
   ]
  },
  {
   "cell_type": "code",
   "execution_count": 4,
   "metadata": {},
   "outputs": [
    {
     "output_type": "stream",
     "name": "stdout",
     "text": "(2, 4)\n(4,)\n[[ 0.05755606  1.0014443  -0.68158615]\n [ 0.07592711  1.3476393  -0.9248988 ]]\ntf.Tensor(\n[[ 0.05755606  1.0014443  -0.68158615]\n [ 0.07592711  1.3476393  -0.9248988 ]], shape=(2, 3), dtype=float32)\n[1 1]\n"
    }
   ],
   "source": [
    "sample_state = np.array([[1,2,3,4],[2,3,4,5]],dtype='uint8')\n",
    "entry_data = sample_state\n",
    "\n",
    "print(entry_data.shape)\n",
    "print(sample_state[0].shape)\n",
    "\n",
    "DQNetwork = DQN(3,sample_state[0].shape)\n",
    "\n",
    "print(DQNetwork.model.predict(entry_data))\n",
    "print(DQNetwork.model(entry_data))\n",
    "print(DQNetwork.get_best_action(entry_data).numpy())"
   ]
  },
  {
   "cell_type": "code",
   "execution_count": 1,
   "metadata": {},
   "outputs": [
    {
     "output_type": "error",
     "ename": "NameError",
     "evalue": "name 'ActionScheduler' is not defined",
     "traceback": [
      "\u001b[0;31m---------------------------------------------------------------------------\u001b[0m",
      "\u001b[0;31mNameError\u001b[0m                                 Traceback (most recent call last)",
      "\u001b[0;32m<ipython-input-1-dc6cbfe5d47f>\u001b[0m in \u001b[0;36m<module>\u001b[0;34m\u001b[0m\n\u001b[0;32m----> 1\u001b[0;31m \u001b[0mscheduler\u001b[0m \u001b[0;34m=\u001b[0m \u001b[0mActionScheduler\u001b[0m\u001b[0;34m(\u001b[0m\u001b[0;36m0\u001b[0m\u001b[0;34m,\u001b[0m\u001b[0;36m2000\u001b[0m\u001b[0;34m,\u001b[0m\u001b[0;36m4\u001b[0m\u001b[0;34m,\u001b[0m\u001b[0mexploration_steps\u001b[0m\u001b[0;34m=\u001b[0m\u001b[0;36m900\u001b[0m\u001b[0;34m,\u001b[0m\u001b[0mfull_exploration_steps\u001b[0m\u001b[0;34m=\u001b[0m\u001b[0;36m100\u001b[0m\u001b[0;34m)\u001b[0m\u001b[0;34m\u001b[0m\u001b[0;34m\u001b[0m\u001b[0m\n\u001b[0m\u001b[1;32m      2\u001b[0m \u001b[0mscheduler\u001b[0m\u001b[0;34m.\u001b[0m\u001b[0mplot_eps_schedule\u001b[0m\u001b[0;34m(\u001b[0m\u001b[0;34m)\u001b[0m\u001b[0;34m\u001b[0m\u001b[0;34m\u001b[0m\u001b[0m\n",
      "\u001b[0;31mNameError\u001b[0m: name 'ActionScheduler' is not defined"
     ]
    }
   ],
   "source": [
    "scheduler = ActionScheduler(0,2000,4,exploration_steps=900,full_exploration_steps=100)\n",
    "scheduler.plot_eps_schedule()"
   ]
  },
  {
   "cell_type": "code",
   "execution_count": null,
   "metadata": {},
   "outputs": [],
   "source": [
    "sample_state = np.array([1,2,3,4],dtype='uint8')\n",
    "policy_net = DQN(4,sample_state.shape)\n",
    "replay_memory = ReplayMemory(capacity=3)\n",
    "\n",
    "replay_memory.push(sample_state, ac, sample_state, rew)\n",
    "train_step(policy_net,0,replay_memory,2,2)\n",
    "replay_memory.push(sample_state, ac, sample_state, rew)\n",
    "batch_states = train_step(policy_net,0,replay_memory,2,2)\n",
    "\n"
   ]
  },
  {
   "cell_type": "code",
   "execution_count": 7,
   "metadata": {},
   "outputs": [
    {
     "output_type": "execute_result",
     "data": {
      "text/plain": "(2, 4)"
     },
     "metadata": {},
     "execution_count": 7
    }
   ],
   "source": [
    "batch_states.shape"
   ]
  },
  {
   "cell_type": "code",
   "execution_count": 8,
   "metadata": {},
   "outputs": [],
   "source": [
    "policy_net.model(batch_states)"
   ]
  },
  {
   "cell_type": "code",
   "execution_count": null,
   "metadata": {},
   "outputs": [],
   "source": []
  }
 ],
 "metadata": {
  "language_info": {
   "codemirror_mode": {
    "name": "ipython",
    "version": 3
   },
   "file_extension": ".py",
   "mimetype": "text/x-python",
   "name": "python",
   "nbconvert_exporter": "python",
   "pygments_lexer": "ipython3",
   "version": "3.6.10-final"
  },
  "orig_nbformat": 2,
  "kernelspec": {
   "name": "python361064bit78fd865009484f75929c124c3e229acc",
   "display_name": "Python 3.6.10 64-bit"
  }
 },
 "nbformat": 4,
 "nbformat_minor": 2
}